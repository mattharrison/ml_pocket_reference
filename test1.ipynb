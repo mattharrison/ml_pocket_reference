import pandas as pd

file = 'titanic3.xls'

print('hello')